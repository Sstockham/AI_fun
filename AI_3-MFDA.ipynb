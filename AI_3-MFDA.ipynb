{
 "cells": [
  {
   "cell_type": "code",
   "execution_count": 2,
   "metadata": {},
   "outputs": [
    {
     "name": "stdout",
     "output_type": "stream",
     "text": [
      "Requirement already satisfied: langchain in c:\\users\\computer\\miniconda3\\lib\\site-packages (0.2.2)\n",
      "Requirement already satisfied: PyYAML>=5.3 in c:\\users\\computer\\miniconda3\\lib\\site-packages (from langchain) (6.0.1)\n",
      "Requirement already satisfied: SQLAlchemy<3,>=1.4 in c:\\users\\computer\\miniconda3\\lib\\site-packages (from langchain) (2.0.30)\n",
      "Requirement already satisfied: aiohttp<4.0.0,>=3.8.3 in c:\\users\\computer\\miniconda3\\lib\\site-packages (from langchain) (3.9.5)\n",
      "Requirement already satisfied: langchain-core<0.3.0,>=0.2.0 in c:\\users\\computer\\miniconda3\\lib\\site-packages (from langchain) (0.2.4)\n",
      "Requirement already satisfied: langchain-text-splitters<0.3.0,>=0.2.0 in c:\\users\\computer\\miniconda3\\lib\\site-packages (from langchain) (0.2.1)\n",
      "Requirement already satisfied: langsmith<0.2.0,>=0.1.17 in c:\\users\\computer\\miniconda3\\lib\\site-packages (from langchain) (0.1.69)\n",
      "Requirement already satisfied: numpy<2,>=1 in c:\\users\\computer\\miniconda3\\lib\\site-packages (from langchain) (1.26.4)\n",
      "Requirement already satisfied: pydantic<3,>=1 in c:\\users\\computer\\miniconda3\\lib\\site-packages (from langchain) (2.7.3)\n",
      "Requirement already satisfied: requests<3,>=2 in c:\\users\\computer\\miniconda3\\lib\\site-packages (from langchain) (2.31.0)\n",
      "Requirement already satisfied: tenacity<9.0.0,>=8.1.0 in c:\\users\\computer\\miniconda3\\lib\\site-packages (from langchain) (8.3.0)\n",
      "Requirement already satisfied: aiosignal>=1.1.2 in c:\\users\\computer\\miniconda3\\lib\\site-packages (from aiohttp<4.0.0,>=3.8.3->langchain) (1.3.1)\n",
      "Requirement already satisfied: attrs>=17.3.0 in c:\\users\\computer\\miniconda3\\lib\\site-packages (from aiohttp<4.0.0,>=3.8.3->langchain) (23.2.0)\n",
      "Requirement already satisfied: frozenlist>=1.1.1 in c:\\users\\computer\\miniconda3\\lib\\site-packages (from aiohttp<4.0.0,>=3.8.3->langchain) (1.4.1)\n",
      "Requirement already satisfied: multidict<7.0,>=4.5 in c:\\users\\computer\\miniconda3\\lib\\site-packages (from aiohttp<4.0.0,>=3.8.3->langchain) (6.0.5)\n",
      "Requirement already satisfied: yarl<2.0,>=1.0 in c:\\users\\computer\\miniconda3\\lib\\site-packages (from aiohttp<4.0.0,>=3.8.3->langchain) (1.9.4)\n",
      "Requirement already satisfied: jsonpatch<2.0,>=1.33 in c:\\users\\computer\\miniconda3\\lib\\site-packages (from langchain-core<0.3.0,>=0.2.0->langchain) (1.33)\n",
      "Requirement already satisfied: packaging<24.0,>=23.2 in c:\\users\\computer\\miniconda3\\lib\\site-packages (from langchain-core<0.3.0,>=0.2.0->langchain) (23.2)\n",
      "Requirement already satisfied: orjson<4.0.0,>=3.9.14 in c:\\users\\computer\\miniconda3\\lib\\site-packages (from langsmith<0.2.0,>=0.1.17->langchain) (3.10.3)\n",
      "Requirement already satisfied: annotated-types>=0.4.0 in c:\\users\\computer\\miniconda3\\lib\\site-packages (from pydantic<3,>=1->langchain) (0.7.0)\n",
      "Requirement already satisfied: pydantic-core==2.18.4 in c:\\users\\computer\\miniconda3\\lib\\site-packages (from pydantic<3,>=1->langchain) (2.18.4)\n",
      "Requirement already satisfied: typing-extensions>=4.6.1 in c:\\users\\computer\\miniconda3\\lib\\site-packages (from pydantic<3,>=1->langchain) (4.12.1)\n",
      "Requirement already satisfied: charset-normalizer<4,>=2 in c:\\users\\computer\\miniconda3\\lib\\site-packages (from requests<3,>=2->langchain) (2.0.4)\n",
      "Requirement already satisfied: idna<4,>=2.5 in c:\\users\\computer\\miniconda3\\lib\\site-packages (from requests<3,>=2->langchain) (3.7)\n",
      "Requirement already satisfied: urllib3<3,>=1.21.1 in c:\\users\\computer\\miniconda3\\lib\\site-packages (from requests<3,>=2->langchain) (2.1.0)\n",
      "Requirement already satisfied: certifi>=2017.4.17 in c:\\users\\computer\\miniconda3\\lib\\site-packages (from requests<3,>=2->langchain) (2024.2.2)\n",
      "Requirement already satisfied: greenlet!=0.4.17 in c:\\users\\computer\\miniconda3\\lib\\site-packages (from SQLAlchemy<3,>=1.4->langchain) (3.0.3)\n",
      "Requirement already satisfied: jsonpointer>=1.9 in c:\\users\\computer\\miniconda3\\lib\\site-packages (from jsonpatch<2.0,>=1.33->langchain-core<0.3.0,>=0.2.0->langchain) (2.1)\n",
      "Note: you may need to restart the kernel to use updated packages.\n"
     ]
    }
   ],
   "source": [
    "pip install langchain"
   ]
  },
  {
   "cell_type": "code",
   "execution_count": 3,
   "metadata": {},
   "outputs": [
    {
     "name": "stdout",
     "output_type": "stream",
     "text": [
      "Requirement already satisfied: beautifulsoup4 in c:\\users\\computer\\miniconda3\\lib\\site-packages (4.12.3)\n",
      "Requirement already satisfied: soupsieve>1.2 in c:\\users\\computer\\miniconda3\\lib\\site-packages (from beautifulsoup4) (2.5)\n",
      "Note: you may need to restart the kernel to use updated packages.\n"
     ]
    }
   ],
   "source": [
    "pip install beautifulsoup4\n"
   ]
  },
  {
   "cell_type": "code",
   "execution_count": 4,
   "metadata": {},
   "outputs": [
    {
     "name": "stdout",
     "output_type": "stream",
     "text": [
      "Requirement already satisfied: pypdf in c:\\users\\computer\\miniconda3\\lib\\site-packages (4.2.0)\n",
      "Note: you may need to restart the kernel to use updated packages.\n"
     ]
    }
   ],
   "source": [
    "pip install pypdf\n"
   ]
  },
  {
   "cell_type": "code",
   "execution_count": null,
   "metadata": {},
   "outputs": [],
   "source": []
  },
  {
   "cell_type": "code",
   "execution_count": 5,
   "metadata": {},
   "outputs": [
    {
     "name": "stdout",
     "output_type": "stream",
     "text": [
      "Requirement already satisfied: faiss-cpu in c:\\users\\computer\\miniconda3\\lib\\site-packages (1.8.0)Note: you may need to restart the kernel to use updated packages.\n",
      "\n",
      "Requirement already satisfied: numpy in c:\\users\\computer\\miniconda3\\lib\\site-packages (from faiss-cpu) (1.26.4)\n"
     ]
    }
   ],
   "source": [
    "pip install faiss-cpu"
   ]
  },
  {
   "cell_type": "code",
   "execution_count": 6,
   "metadata": {},
   "outputs": [],
   "source": [
    "from langchain_community.llms import Ollama\n",
    "llm = Ollama(model=\"codellama:7B\")"
   ]
  },
  {
   "cell_type": "code",
   "execution_count": 7,
   "metadata": {},
   "outputs": [],
   "source": [
    "from langchain_core.output_parsers import StrOutputParser\n",
    "\n",
    "output_parser = StrOutputParser()"
   ]
  },
  {
   "cell_type": "code",
   "execution_count": 8,
   "metadata": {},
   "outputs": [],
   "source": [
    "#from langchain_community.document_loaders import WebBaseLoader\n",
    "#loader = WebBaseLoader(\"https://fallout.fandom.com/wiki/Fallout:_New_Vegas\")\n",
    "from langchain_community.document_loaders import PyPDFLoader\n",
    "\n",
    "loader = PyPDFLoader(\"LLM_Trial_log .pdf\")\n",
    "pages = loader.load_and_split()\n",
    "\n",
    "docs = pages\n",
    "#docs = loader.load()"
   ]
  },
  {
   "cell_type": "code",
   "execution_count": 9,
   "metadata": {},
   "outputs": [],
   "source": [
    "from langchain_community.embeddings import OllamaEmbeddings\n",
    "\n",
    "embeddings = OllamaEmbeddings()"
   ]
  },
  {
   "cell_type": "code",
   "execution_count": 10,
   "metadata": {},
   "outputs": [],
   "source": [
    "from langchain_community.vectorstores import FAISS\n",
    "from langchain_text_splitters import RecursiveCharacterTextSplitter\n",
    "\n",
    "\n",
    "text_splitter = RecursiveCharacterTextSplitter()\n",
    "documents = text_splitter.split_documents(docs)\n",
    "vector = FAISS.from_documents(documents, embeddings)"
   ]
  },
  {
   "cell_type": "code",
   "execution_count": 11,
   "metadata": {},
   "outputs": [],
   "source": [
    "from langchain_core.prompts import ChatPromptTemplate\n",
    "from langchain.chains.combine_documents import create_stuff_documents_chain\n",
    "\n",
    "prompt = ChatPromptTemplate.from_template(\"\"\"\n",
    "You are a verilog coder. Only output Verilog code. \n",
    "                                          \n",
    "Develop a verilog file that represents the netlist for a lab on chip design\n",
    "\n",
    "Only use one module. Use single bit wires(no [7:0] bus designations). Define internal connections at the beginning as wires.\n",
    "\n",
    "Develop a verilog file that represents the netlist for a lab on chip design. Use component calls like the following (Zs are the only part that change): diffmix_25px_0 mixZ (.a_fluid(solnZ), .b_fluid(solnZ), .out_fluid(connectZ));\n",
    "It is essential that the netlist be entirely structural, without any behavioral statements.\n",
    "                                          \n",
    "The goal is to take a high level design request and put it into structural verilog.\n",
    "\n",
    "                                          \n",
    "The following context may help: \n",
    "\n",
    "<context>\n",
    "{context}\n",
    "</context>\n",
    "\n",
    "Question: {input}\"\"\"\n",
    ")\n",
    "\n",
    "document_chain = create_stuff_documents_chain(llm, prompt)"
   ]
  },
  {
   "cell_type": "code",
   "execution_count": 12,
   "metadata": {},
   "outputs": [],
   "source": [
    "from langchain.chains import create_retrieval_chain\n",
    "\n",
    "retriever = vector.as_retriever()\n",
    "retrieval_chain = create_retrieval_chain(retriever, document_chain)"
   ]
  },
  {
   "cell_type": "code",
   "execution_count": 14,
   "metadata": {},
   "outputs": [
    {
     "name": "stdout",
     "output_type": "stream",
     "text": [
      "input_variables=['context', 'input'] messages=[HumanMessagePromptTemplate(prompt=PromptTemplate(input_variables=['context', 'input'], template='\\nYou are a verilog coder. Only output Verilog code. \\n                                          \\nDevelop a verilog file that represents the netlist for a lab on chip design\\n\\nOnly use one module. Use single bit wires(no [7:0] bus designations). Define internal connections at the beginning as wires.\\n\\nDevelop a verilog file that represents the netlist for a lab on chip design. Use component calls like the following (Zs are the only part that change): diffmix_25px_0 mixZ (.a_fluid(solnZ), .b_fluid(solnZ), .out_fluid(connectZ));\\nIt is essential that the netlist be entirely structural, without any behavioral statements.\\n                                          \\nThe goal is to take a high level design request and put it into structural verilog.\\n\\n                                          \\nThe following context may help: \\n\\n<context>\\n{context}\\n</context>\\n\\nQuestion: {input}'))]\n",
      "Sure! Here is an example Verilog code for a 4-input, 1-output mixing circuit using diffuse mixing and serpentine dilution:\n",
      "```\n",
      "module lab_chip(\n",
      "    input wire [7:0] soln1,\n",
      "    input wire [7:0] soln2,\n",
      "    input wire [7:0] soln3,\n",
      "    input wire [7:0] soln4,\n",
      "    output wire [7:0] connect0\n",
      ");\n",
      "    // Reduce solution A by 2\n",
      "    serpentine_50px_0 serp1(.in_fluid(soln1), .out_fluid(reduced_soln1));\n",
      "    serpentine_50px_0 serp2(.in_fluid(reduced_soln1), .out_fluid(reduced_soln1_diluted));\n",
      "    serpentine_50px_0 serp3(.in_fluid(reduced_soln1_diluted), .out_fluid(reduced_soln1_reduced));\n",
      "    \n",
      "    // Reduce solution B by 2\n",
      "    serpentine_50px_0 serp4(.in_fluid(soln2), .out_fluid(reduced_soln2));\n",
      "    serpentine_50px_0 serp5(.in_fluid(reduced_soln2), .out_fluid(reduced_soln2_diluted));\n",
      "    serpentine_50px_0 serp6(.in_fluid(reduced_soln2_diluted), .out_fluid(reduced_soln2_reduced));\n",
      "    \n",
      "    // Reduce solution C by 2\n",
      "    serpentine_50px_0 serp7(.in_fluid(soln3), .out_fluid(reduced_soln3));\n",
      "    serpentine_50px_0 serp8(.in_fluid(reduced_soln3), .out_fluid(reduced_soln3_diluted));\n",
      "    serpentine_50px_0 serp9(.in_fluid(reduced_soln3_diluted), .out_fluid(reduced_soln3_reduced));\n",
      "    \n",
      "    // Reduce solution D by 2\n",
      "    serpentine_50px_0 serp10(.in_fluid(soln4), .out_fluid(reduced_soln4));\n",
      "    serpentine_50px_0 serp11(.in_fluid(reduced_soln4), .out_fluid(reduced_soln4_diluted));\n",
      "    serpentine_50px_0 serp12(.in_fluid(reduced_soln4_diluted), .out_fluid(reduced_soln4_reduced));\n",
      "    \n",
      "    // Mix the reduced solutions\n",
      "    diffuse_mixing_50px_0 mixer1(.a_fluid(reduced_soln1_reduced), .b_fluid(reduced_soln2_reduced), .out_fluid(mixed_soln1));\n",
      "    diffuse_mixing_50px_0 mixer2(.a_fluid(reduced_soln3_reduced), .b_fluid(reduced_soln4_reduced), .out_fluid(mixed_soln2));\n",
      "    \n",
      "    // Dilute the mixed solutions\n",
      "    serpentine_50px_0 serp13(.in_fluid(mixed_soln1), .out_fluid(diluted_mixed_soln1));\n",
      "    serpentine_50px_0 serp14(.in_fluid(mixed_soln2), .out_fluid(diluted_mixed_soln2));\n",
      "    \n",
      "    // Reduce the diluted mixed solutions\n",
      "    serpentine_50px_0 serp15(.in_fluid(diluted_mixed_soln1), .out_fluid(reduced_diluted_mixed_soln1));\n",
      "    serpentine_50px_0 serp16(.in_fluid(diluted_mixed_soln2), .out_fluid(reduced_diluted_mixed_soln2));\n",
      "    \n",
      "    // Mix the reduced diluted mixed solutions\n",
      "    diffuse_mixing_50px_0 mixer3(.a_fluid(reduced_diluted_mixed_soln1), .b_fluid(reduced_diluted_mixed_soln2), .out_fluid(connect0));\n",
      "endmodule\n",
      "```\n",
      "This code assumes that the serpentine dilution and reduction circuits are available as submodules. The code first reduces each of the four solutions by 2 using serpentine dilution, then mixes the reduced solutions with a diffuse mixing circuit. Finally, the mixed solution is diluted with another serpentine dilution circuit and then reduced again to produce the final output signal.\n"
     ]
    }
   ],
   "source": [
    "\n",
    "\n",
    "response = retrieval_chain.invoke({\"input\": \"Could you make me a chip that mixes four chemicals\"})\n",
    "print(prompt)\n",
    "\n",
    "print(response[\"answer\"])\n"
   ]
  }
 ],
 "metadata": {
  "kernelspec": {
   "display_name": "base",
   "language": "python",
   "name": "python3"
  },
  "language_info": {
   "codemirror_mode": {
    "name": "ipython",
    "version": 3
   },
   "file_extension": ".py",
   "mimetype": "text/x-python",
   "name": "python",
   "nbconvert_exporter": "python",
   "pygments_lexer": "ipython3",
   "version": "3.12.3"
  }
 },
 "nbformat": 4,
 "nbformat_minor": 2
}
